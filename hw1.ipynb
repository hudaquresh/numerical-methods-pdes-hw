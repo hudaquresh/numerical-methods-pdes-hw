{
 "cells": [
  {
   "cell_type": "code",
   "execution_count": null,
   "metadata": {
    "collapsed": true
   },
   "outputs": [],
   "source": [
    "%matplotlib inline\n",
    "%precision 16\n",
    "from __future__ import print_function\n",
    "import math\n",
    "import cmath\n",
    "import numpy\n",
    "import numpy.fft\n",
    "import numpy.linalg\n",
    "import scipy\n",
    "import scipy.linalg\n",
    "import matplotlib.pyplot as plt"
   ]
  },
  {
   "cell_type": "markdown",
   "metadata": {
    "nbgrader": {
     "grade": false,
     "grade_id": "h1",
     "locked": true,
     "solution": false
    }
   },
   "source": [
    "Before you turn this problem in, make sure everything runs as expected. First, restart the kernel (in the menubar, select Kernel $\\rightarrow$ Restart) and then run all cells (in the menubar, select Cell $\\rightarrow$ Run All).\n",
    "\n",
    "Your name and collaborators below:"
   ]
  },
  {
   "cell_type": "markdown",
   "metadata": {
    "nbgrader": {
     "grade": false,
     "grade_id": "h2",
     "locked": true,
     "solution": false
    }
   },
   "source": [
    "# HW 1: Review"
   ]
  },
  {
   "cell_type": "markdown",
   "metadata": {},
   "source": [
    "## Question 0 [5]"
   ]
  },
  {
   "cell_type": "markdown",
   "metadata": {
    "nbgrader": {
     "grade": false,
     "grade_id": "h1",
     "locked": true,
     "solution": false
    }
   },
   "source": [
    "Install Anaconda/Python/Jupyter on your computer."
   ]
  },
  {
   "cell_type": "markdown",
   "metadata": {
    "nbgrader": {
     "grade": false,
     "grade_id": "1-Q",
     "locked": true,
     "solution": false
    }
   },
   "source": [
    "## Question 1 [25]"
   ]
  },
  {
   "cell_type": "markdown",
   "metadata": {
    "nbgrader": {
     "grade": false,
     "grade_id": "1a-Q",
     "locked": true,
     "solution": false
    }
   },
   "source": [
    "**(a)** [5] Write a function that takes in a function $f(x)$, end points $a$ and $b$, and an integer $N$, and evaluates the function at equally-spaced points *including* the boundaries $a$ and $b$.  $N$ should represent the number of points used in the interior of the domain, i.e., you should end up with the evaluation with $N+2$ points.  Do not use `linspace`."
   ]
  },
  {
   "cell_type": "code",
   "execution_count": null,
   "metadata": {
    "collapsed": true,
    "nbgrader": {
     "grade": false,
     "grade_id": "1a-A",
     "locked": false,
     "solution": true
    }
   },
   "outputs": [],
   "source": [
    "def eval_linspace(f, a, b, N):\n",
    "    \"\"\"Evaluate the function f at equally-spaced points\n",
    "    \n",
    "    Parameters\n",
    "    ----------\n",
    "    param1 : type\n",
    "        Description\n",
    "    param2 : type\n",
    "        Description\n",
    "    param3 : type\n",
    "        Description\n",
    "    param4 : type\n",
    "        Description\n",
    "    \"\"\"\n",
    "    ### BEGIN SOLUTION\n",
    "    \n",
    "    ### END SOLUTION\n",
    "    return f_eval"
   ]
  },
  {
   "cell_type": "code",
   "execution_count": null,
   "metadata": {
    "collapsed": true,
    "nbgrader": {
     "grade": true,
     "grade_id": "1a-T",
     "locked": true,
     "points": 5,
     "solution": false
    },
    "scrolled": true
   },
   "outputs": [],
   "source": [
    "# Do not delete this:\n",
    "f = lambda x: numpy.cos(numpy.pi * x / 2.0)\n",
    "N = 20\n",
    "numpy.testing.assert_allclose(eval_linspace(f, -1.0, 1.0, N), f(numpy.linspace(-1.0, 1.0, N + 2)))\n",
    "print(\"Success!\")"
   ]
  },
  {
   "cell_type": "markdown",
   "metadata": {
    "nbgrader": {
     "grade": false,
     "grade_id": "1b-Q",
     "locked": true,
     "solution": false
    }
   },
   "source": [
    "**(b)** [10] Write another function that computes the second derivative of a given function $f(x)$ using second order finite differences.  You can use the function from part (a) to do this (and are in fact encouraged to do so).  This function should accept a function $f(x)$, the number of grid points to be used, and the end points of the interval $a$ and $b$.  Make sure to also compute the derivative at $x = a$ and $x = b$ using an appropriate finite difference."
   ]
  },
  {
   "cell_type": "code",
   "execution_count": null,
   "metadata": {
    "collapsed": true,
    "nbgrader": {
     "grade": false,
     "grade_id": "1b-A",
     "locked": false,
     "solution": true
    }
   },
   "outputs": [],
   "source": [
    "def compute_dbl_prime(f, a, b, N):\n",
    "    \"\"\"Evalute the second derivative of the function f using a \n",
    "    second order finite difference approximation.\n",
    "\n",
    "    Parameters\n",
    "    ----------\n",
    "    param1 : type\n",
    "        Description\n",
    "    param2 : type\n",
    "        Description\n",
    "    param3 : type\n",
    "        Description\n",
    "    param4 : type\n",
    "        Description\n",
    "    \"\"\"\n",
    "    ### BEGIN SOLUTION\n",
    "    \n",
    "    ### END SOLUTION\n",
    "    return f_dbl_prime"
   ]
  },
  {
   "cell_type": "code",
   "execution_count": null,
   "metadata": {
    "collapsed": true,
    "nbgrader": {
     "grade": true,
     "grade_id": "1b-Ta",
     "locked": true,
     "points": 10,
     "solution": false
    }
   },
   "outputs": [],
   "source": [
    "# Do not delete this:\n",
    "sigma = 0.2\n",
    "f = lambda x: numpy.exp(-x**2 / sigma**2)\n",
    "f_dbl_prime = lambda x: f(x) * 2.0 * (2.0 * x**2 / sigma**4 - 1.0 / sigma**2)\n",
    "N = 500\n",
    "a = -1.0\n",
    "b = 1.0\n",
    "x = numpy.linspace(a, b, N + 2)\n",
    "error = numpy.abs(compute_dbl_prime(f, a, b, N) - f_dbl_prime(x))\n",
    "print((\"||Error|| = %s\" % numpy.linalg.norm(error, numpy.infty)))\n",
    "assert(numpy.linalg.norm(error, numpy.infty) < 1e-2)\n",
    "print(\"Success!\")"
   ]
  },
  {
   "cell_type": "markdown",
   "metadata": {
    "nbgrader": {
     "grade": false,
     "grade_id": "1c-Q",
     "locked": true,
     "solution": false
    }
   },
   "source": [
    "**(c)** [10] For the function\n",
    "\n",
    "$$\n",
    "    f(x) = 5 + 2x + x^2 + \\sin(3x),\n",
    "$$\n",
    "\n",
    "compute and plot the error in the domain $\\Omega=[a, b]$ with $a=0, b=800$ between your function from part (b) and the true second derivative in the $\\ell_\\infty$ norm for $\\Delta x = 2^{-n}$ where $n = 4, 5, \\ldots, 8$."
   ]
  },
  {
   "cell_type": "code",
   "execution_count": null,
   "metadata": {
    "collapsed": true,
    "nbgrader": {
     "grade": true,
     "grade_id": "1c-A1",
     "locked": false,
     "points": 8,
     "solution": true
    }
   },
   "outputs": [],
   "source": [
    "### BEGIN SOLUTION\n",
    "\n",
    "### END SOLUTION"
   ]
  },
  {
   "cell_type": "markdown",
   "metadata": {
    "nbgrader": {
     "grade": false,
     "grade_id": "3-Q",
     "locked": true,
     "solution": false
    }
   },
   "source": [
    "# Question 2 [30]"
   ]
  },
  {
   "cell_type": "markdown",
   "metadata": {
    "nbgrader": {
     "grade": false,
     "grade_id": "1a-Q",
     "locked": true,
     "solution": false
    }
   },
   "source": [
    "**(a)** [10] Consider the following matrix $A$,\n",
    "\n",
    "$$\n",
    "    A = \n",
    "    \\begin{pmatrix}\n",
    "    2 & 1 & 1 & 0 \\\\\n",
    "    4 & 3 & 3 & 1 \\\\\n",
    "    8 & 7 & 9 & 5 \\\\\n",
    "    4 & 7 & 9 & 8\n",
    "    \\end{pmatrix}.\n",
    "$$\n",
    "\n",
    "Assemble the matrix $A$ and compute its determinant using the appropriate `numpy.linalg` method, and verifiy that it is equal to 4. Compute the product of the eigenvalues of $A$ and check that you obtain the same value."
   ]
  },
  {
   "cell_type": "code",
   "execution_count": null,
   "metadata": {
    "collapsed": true,
    "nbgrader": {
     "grade": true,
     "grade_id": "1c-A1",
     "locked": false,
     "points": 8,
     "solution": true
    }
   },
   "outputs": [],
   "source": [
    "### BEGIN SOLUTION\n",
    "\n",
    "### END SOLUTION"
   ]
  },
  {
   "cell_type": "markdown",
   "metadata": {
    "nbgrader": {
     "grade": false,
     "grade_id": "1a-Q",
     "locked": true,
     "solution": false
    }
   },
   "source": [
    "**(b)** [10] The exponential of a $N\\times N$ matrix $M$ is another $N\\times N$ matrix defined by\n",
    "\n",
    "$$\n",
    "    e^M = \\sum_{k=0}^{\\infty}\\frac{M^k}{k!}.\n",
    "$$\n",
    "\n",
    "where $M^0=I$ (the $N\\times N$ identity matrix). Write a function that takes in a matrix $M$ and an integer $l$, and evaluates an approximation of $e^M$ using powers of $M$ up to $M^l$."
   ]
  },
  {
   "cell_type": "code",
   "execution_count": null,
   "metadata": {
    "collapsed": true
   },
   "outputs": [],
   "source": [
    "def compute_matrix_exp(M, l):\n",
    "    \"\"\"Evalute the matrix exponential\n",
    "\n",
    "    Parameters\n",
    "    ----------\n",
    "    param1 : type\n",
    "        Description\n",
    "    param2 : type\n",
    "        Description\n",
    "    \"\"\"\n",
    "    ### BEGIN SOLUTION\n",
    "\n",
    "    ### END SOLUTION\n",
    "    return matrix_exp"
   ]
  },
  {
   "cell_type": "code",
   "execution_count": null,
   "metadata": {
    "nbgrader": {
     "grade": true,
     "grade_id": "1c-A1",
     "locked": false,
     "points": 8,
     "solution": true
    },
    "scrolled": true
   },
   "outputs": [],
   "source": [
    "# Do not delete this:\n",
    "A = numpy.array([[1, 2], [3, 4]])\n",
    "error = compute_matrix_exp(A, 1000) - scipy.linalg.expm(A)\n",
    "assert(numpy.linalg.norm(error, numpy.infty) < 1e-6)\n",
    "print(\"Success!\")"
   ]
  },
  {
   "cell_type": "markdown",
   "metadata": {
    "nbgrader": {
     "grade": false,
     "grade_id": "1a-Q",
     "locked": true,
     "solution": false
    }
   },
   "source": [
    "**(c)** [10] For any integer $N\\geq 0$ let $\\omega=e^{2\\pi i/N}$ denote a $N$-th root of unity ($\\omega^N=1$). \n",
    "Write a function that takes in $N$ and construct the following $N\\times N$ matrix,\n",
    "\n",
    "$$\n",
    "    W = \n",
    "    \\begin{pmatrix}\n",
    "    1&1&1&1&\\cdots &1\\\\\n",
    "    1&\\omega &\\omega ^{2}&\\omega ^{3}&\\cdots &\\omega ^{N-1}\\\\\n",
    "    1&\\omega ^{2}&\\omega ^{4}&\\omega ^{6}&\\cdots &\\omega ^{2(N-1)}\\\\\n",
    "    1&\\omega ^{3}&\\omega ^{6}&\\omega ^{9}&\\cdots &\\omega ^{3(N-1)}\\\\\n",
    "    \\vdots &\\vdots &\\vdots &\\vdots &\\ddots &\\vdots \\\\\n",
    "    1&\\omega ^{N-1}&\\omega ^{2(N-1)}&\\omega ^{3(N-1)}&\\cdots &\\omega ^{(N-1)(N-1)}\n",
    "    \\end{pmatrix}.\n",
    "$$"
   ]
  },
  {
   "cell_type": "code",
   "execution_count": null,
   "metadata": {
    "collapsed": true,
    "nbgrader": {
     "grade": true,
     "grade_id": "1c-A1",
     "locked": false,
     "points": 8,
     "solution": true
    }
   },
   "outputs": [],
   "source": [
    "def compute_fft_matrix(N):\n",
    "    \"\"\"Compute the FFT matrix of size N\n",
    "\n",
    "    Parameters\n",
    "    ----------\n",
    "    param1 : type\n",
    "        Description\n",
    "    \"\"\"\n",
    "    ### BEGIN SOLUTION\n",
    "\n",
    "    ### END SOLUTION\n",
    "    return fft_matrix"
   ]
  },
  {
   "cell_type": "code",
   "execution_count": null,
   "metadata": {
    "collapsed": true,
    "nbgrader": {
     "grade": true,
     "grade_id": "1c-A1",
     "locked": false,
     "points": 8,
     "solution": true
    },
    "scrolled": true
   },
   "outputs": [],
   "source": [
    "# Do not delete this:\n",
    "N = 20\n",
    "error = compute_fft_matrix(N) - numpy.fft.fft(numpy.eye(N))\n",
    "assert(numpy.linalg.norm(error, numpy.infty) < 1e-10)\n",
    "print(\"Success!\")"
   ]
  },
  {
   "cell_type": "markdown",
   "metadata": {
    "nbgrader": {
     "grade": false,
     "grade_id": "3-Q",
     "locked": true,
     "solution": false
    }
   },
   "source": [
    "# Question 3 [30]\n",
    "Solve the following PDEs showing the relevant steps and plot a few time snapshots of the solution."
   ]
  },
  {
   "cell_type": "markdown",
   "metadata": {
    "nbgrader": {
     "grade": false,
     "grade_id": "3-Qa",
     "locked": true,
     "solution": false
    }
   },
   "source": [
    "**(a)** [15] $u_t = \\kappa u_{xx}$ with $x \\in \\Omega = (0, L)$, the boundary conditions $u_x(0, t) = 0$ and $u_x(L, t) = 0$, and the initial condition $u(x, 0) = 3 + \\cos\\left(\\frac{\\pi x}{L} \\right) - 2 \\cos\\left(\\frac{5 \\pi x}{L} \\right)$.  When plotting the solution pick a value for $L$ and play with values of $\\kappa$.  Make sure your solution makes sense as $t \\rightarrow \\infty$."
   ]
  },
  {
   "cell_type": "code",
   "execution_count": null,
   "metadata": {
    "collapsed": true,
    "nbgrader": {
     "grade": true,
     "grade_id": "3a-A2",
     "locked": false,
     "points": 5,
     "solution": true
    }
   },
   "outputs": [],
   "source": [
    "### BEGIN SOLUTION\n",
    "\n",
    "### END SOLUTION"
   ]
  },
  {
   "cell_type": "markdown",
   "metadata": {
    "nbgrader": {
     "grade": false,
     "grade_id": "3-Qb",
     "locked": true,
     "solution": false
    }
   },
   "source": [
    "**(b)** [15] Solve the PDE $u_t + \\left(\\frac{1}{2}u^2\\right)_x = 0$ where $x \\in \\Omega = \\mathbb R$ and the initial conditions\n",
    "$$ \n",
    "    u(x,0) = \\left \\{ \\begin{aligned}\n",
    "        2, && x \\leq 0, \\\\\n",
    "        5, && x > 0.\n",
    "    \\end{aligned} \\right.\n",
    "$$\n",
    "In addition to plotting the solution also mark the edges of interesting regions such as the rarefaction fan or the shock."
   ]
  },
  {
   "cell_type": "code",
   "execution_count": null,
   "metadata": {
    "collapsed": true,
    "nbgrader": {
     "grade": true,
     "grade_id": "3b-A2",
     "locked": false,
     "points": 5,
     "solution": true
    }
   },
   "outputs": [],
   "source": [
    "### BEGIN SOLUTION\n",
    "\n",
    "### END SOLUTION"
   ]
  }
 ],
 "metadata": {
  "celltoolbar": "Create Assignment",
  "kernelspec": {
   "display_name": "Python 3",
   "language": "python",
   "name": "python3"
  },
  "language_info": {
   "codemirror_mode": {
    "name": "ipython",
    "version": 3
   },
   "file_extension": ".py",
   "mimetype": "text/x-python",
   "name": "python",
   "nbconvert_exporter": "python",
   "pygments_lexer": "ipython3",
   "version": "3.6.1"
  },
  "latex_envs": {
   "bibliofile": "biblio.bib",
   "cite_by": "apalike",
   "current_citInitial": 1,
   "eqLabelWithNumbers": true,
   "eqNumInitial": 0
  }
 },
 "nbformat": 4,
 "nbformat_minor": 1
}
